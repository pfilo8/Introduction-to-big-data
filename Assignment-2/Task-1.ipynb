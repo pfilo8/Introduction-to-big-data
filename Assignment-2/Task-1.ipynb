{
 "metadata": {
  "language_info": {
   "codemirror_mode": {
    "name": "ipython",
    "version": 3
   },
   "file_extension": ".py",
   "mimetype": "text/x-python",
   "name": "python",
   "nbconvert_exporter": "python",
   "pygments_lexer": "ipython3",
   "version": "3.7.2-final"
  },
  "orig_nbformat": 2,
  "kernelspec": {
   "name": "python37232bitdbfb5128f7f74ef68eaa7ee00ddc0779",
   "display_name": "Python 3.7.2 32-bit",
   "language": "python"
  }
 },
 "nbformat": 4,
 "nbformat_minor": 2,
 "cells": [
  {
   "source": [
    "# Task 1\n",
    "Given a 2D matrix (or list of lists), count how many numbers are present in a given range."
   ],
   "cell_type": "markdown",
   "metadata": {}
  },
  {
   "cell_type": "code",
   "execution_count": 1,
   "metadata": {},
   "outputs": [],
   "source": [
    "from functools import reduce, partial\n",
    "from operator import add\n",
    "import numpy as np\n",
    "from multiprocessing import Pool"
   ]
  },
  {
   "cell_type": "code",
   "execution_count": 2,
   "metadata": {},
   "outputs": [],
   "source": [
    "def is_elem_from_range(elem, start, stop):\n",
    "    return (elem >= start and elem <= stop)"
   ]
  },
  {
   "cell_type": "code",
   "execution_count": 3,
   "metadata": {},
   "outputs": [],
   "source": [
    "def mapper(list1d, start, stop):\n",
    "    return sum([is_elem_from_range(i, start, stop) for i in list1d])\n"
   ]
  },
  {
   "cell_type": "code",
   "execution_count": 4,
   "metadata": {},
   "outputs": [],
   "source": [
    "reducer = add"
   ]
  },
  {
   "cell_type": "code",
   "execution_count": 5,
   "metadata": {},
   "outputs": [],
   "source": [
    "mapperPart = partial(mapper, start = 2, stop = 5)"
   ]
  },
  {
   "source": [
    "## MapReduce"
   ],
   "cell_type": "markdown",
   "metadata": {}
  },
  {
   "cell_type": "code",
   "execution_count": 6,
   "metadata": {},
   "outputs": [],
   "source": [
    "list2d = list(np.random.randint(50, size=(20, 40)))"
   ]
  },
  {
   "cell_type": "code",
   "execution_count": 7,
   "metadata": {},
   "outputs": [
    {
     "output_type": "stream",
     "name": "stdout",
     "text": [
      "Wall time: 8.97 ms\n"
     ]
    },
    {
     "output_type": "execute_result",
     "data": {
      "text/plain": [
       "56"
      ]
     },
     "metadata": {},
     "execution_count": 7
    }
   ],
   "source": [
    "%%time\n",
    "reduce(reducer, map(mapperPart, list2d))"
   ]
  },
  {
   "source": [
    "# Multiprocessing MapReduce"
   ],
   "cell_type": "markdown",
   "metadata": {}
  },
  {
   "cell_type": "code",
   "execution_count": 8,
   "metadata": {},
   "outputs": [],
   "source": [
    "def chunkify(iterable, num_chunks = 1):\n",
    "    return [iterable[i::num_chunks] for i in range(num_chunks)]"
   ]
  },
  {
   "cell_type": "code",
   "execution_count": 9,
   "metadata": {},
   "outputs": [],
   "source": [
    "def chunks_mapper(chunk):\n",
    "    mapped_chunk = map(mapperPart, chunk) \n",
    "    return reduce(reducer, mapped_chunk)"
   ]
  },
  {
   "cell_type": "code",
   "execution_count": 10,
   "metadata": {},
   "outputs": [],
   "source": [
    "num_processes = 4\n",
    "\n",
    "pool = Pool(num_processes)\n",
    "list_chunks = chunkify(list2d, num_processes)"
   ]
  },
  {
   "cell_type": "code",
   "execution_count": 11,
   "metadata": {},
   "outputs": [],
   "source": [
    "%%time\n",
    "mapped = pool.map(chunks_mapper, list_chunks)\n",
    "reduce(reducer, mapped)"
   ]
  }
 ]
}