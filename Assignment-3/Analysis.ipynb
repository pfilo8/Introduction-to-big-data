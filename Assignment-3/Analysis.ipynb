{
 "cells": [
  {
   "cell_type": "code",
   "execution_count": 1,
   "id": "congressional-joining",
   "metadata": {},
   "outputs": [],
   "source": [
    "import pandas as pd\n",
    "\n",
    "from pyspark.sql import SparkSession\n",
    "from pyspark.sql.context import SQLContext"
   ]
  },
  {
   "cell_type": "code",
   "execution_count": 2,
   "id": "polyphonic-inventory",
   "metadata": {},
   "outputs": [],
   "source": [
    "spark = SparkSession.builder.appName('spark-sql').master('local').getOrCreate()\n",
    "sqlContext = SQLContext(spark)\n",
    "filepath = 'data/Seasons_Stats.csv'\n",
    "df = sqlContext.read.load(filepath, format='com.databricks.spark.csv', header='true',inferSchema='true')"
   ]
  },
  {
   "cell_type": "code",
   "execution_count": 3,
   "id": "fixed-leadership",
   "metadata": {},
   "outputs": [],
   "source": [
    "df.registerTempTable('seasons_stats')"
   ]
  },
  {
   "cell_type": "markdown",
   "id": "sustained-andorra",
   "metadata": {},
   "source": [
    "Data description"
   ]
  },
  {
   "cell_type": "code",
   "execution_count": 4,
   "id": "banned-preference",
   "metadata": {},
   "outputs": [
    {
     "name": "stdout",
     "output_type": "stream",
     "text": [
      "+--------+---------+-------+\n",
      "|col_name|data_type|comment|\n",
      "+--------+---------+-------+\n",
      "|     _c0|      int|   null|\n",
      "|    Year|      int|   null|\n",
      "|  Player|   string|   null|\n",
      "|     Pos|   string|   null|\n",
      "|     Age|      int|   null|\n",
      "|      Tm|   string|   null|\n",
      "|       G|      int|   null|\n",
      "|      GS|      int|   null|\n",
      "|      MP|      int|   null|\n",
      "|     PER|   double|   null|\n",
      "|     TS%|   double|   null|\n",
      "|    3PAr|   double|   null|\n",
      "|     FTr|   double|   null|\n",
      "|    ORB%|   double|   null|\n",
      "|    DRB%|   double|   null|\n",
      "|    TRB%|   double|   null|\n",
      "|    AST%|   double|   null|\n",
      "|    STL%|   double|   null|\n",
      "|    BLK%|   double|   null|\n",
      "|    TOV%|   double|   null|\n",
      "|    USG%|   double|   null|\n",
      "|   blanl|   string|   null|\n",
      "|     OWS|   double|   null|\n",
      "|     DWS|   double|   null|\n",
      "|      WS|   double|   null|\n",
      "|   WS/48|   double|   null|\n",
      "|  blank2|   string|   null|\n",
      "|    OBPM|   double|   null|\n",
      "|    DBPM|   double|   null|\n",
      "|     BPM|   double|   null|\n",
      "|    VORP|   double|   null|\n",
      "|      FG|      int|   null|\n",
      "|     FGA|      int|   null|\n",
      "|     FG%|   double|   null|\n",
      "|      3P|      int|   null|\n",
      "|     3PA|      int|   null|\n",
      "|     3P%|   double|   null|\n",
      "|      2P|      int|   null|\n",
      "|     2PA|      int|   null|\n",
      "|     2P%|   double|   null|\n",
      "|    eFG%|   double|   null|\n",
      "|      FT|      int|   null|\n",
      "|     FTA|      int|   null|\n",
      "|     FT%|   double|   null|\n",
      "|     ORB|      int|   null|\n",
      "|     DRB|      int|   null|\n",
      "|     TRB|      int|   null|\n",
      "|     AST|      int|   null|\n",
      "|     STL|      int|   null|\n",
      "|     BLK|      int|   null|\n",
      "|     TOV|      int|   null|\n",
      "|      PF|      int|   null|\n",
      "|     PTS|      int|   null|\n",
      "+--------+---------+-------+\n",
      "\n"
     ]
    }
   ],
   "source": [
    "describe = sqlContext.sql(\"describe seasons_stats\")\n",
    "describe.show(n = 100)"
   ]
  },
  {
   "cell_type": "markdown",
   "id": "aquatic-robin",
   "metadata": {},
   "source": [
    "Example of the first row"
   ]
  },
  {
   "cell_type": "code",
   "execution_count": 5,
   "id": "alone-batch",
   "metadata": {},
   "outputs": [
    {
     "name": "stdout",
     "output_type": "stream",
     "text": [
      "-RECORD 0-----------------\n",
      " _c0    | 0               \n",
      " Year   | 1950            \n",
      " Player | Curly Armstrong \n",
      " Pos    | G-F             \n",
      " Age    | 31              \n",
      " Tm     | FTW             \n",
      " G      | 63              \n",
      " GS     | null            \n",
      " MP     | null            \n",
      " PER    | null            \n",
      " TS%    | 0.368           \n",
      " 3PAr   | null            \n",
      " FTr    | 0.467           \n",
      " ORB%   | null            \n",
      " DRB%   | null            \n",
      " TRB%   | null            \n",
      " AST%   | null            \n",
      " STL%   | null            \n",
      " BLK%   | null            \n",
      " TOV%   | null            \n",
      " USG%   | null            \n",
      " blanl  | null            \n",
      " OWS    | -0.1            \n",
      " DWS    | 3.6             \n",
      " WS     | 3.5             \n",
      " WS/48  | null            \n",
      " blank2 | null            \n",
      " OBPM   | null            \n",
      " DBPM   | null            \n",
      " BPM    | null            \n",
      " VORP   | null            \n",
      " FG     | 144             \n",
      " FGA    | 516             \n",
      " FG%    | 0.279           \n",
      " 3P     | null            \n",
      " 3PA    | null            \n",
      " 3P%    | null            \n",
      " 2P     | 144             \n",
      " 2PA    | 516             \n",
      " 2P%    | 0.279           \n",
      " eFG%   | 0.279           \n",
      " FT     | 170             \n",
      " FTA    | 241             \n",
      " FT%    | 0.705           \n",
      " ORB    | null            \n",
      " DRB    | null            \n",
      " TRB    | null            \n",
      " AST    | 176             \n",
      " STL    | null            \n",
      " BLK    | null            \n",
      " TOV    | null            \n",
      " PF     | 217             \n",
      " PTS    | 458             \n",
      "only showing top 1 row\n",
      "\n"
     ]
    }
   ],
   "source": [
    "df.show(1, vertical = True)"
   ]
  },
  {
   "cell_type": "markdown",
   "id": "architectural-psychology",
   "metadata": {},
   "source": [
    "### Best scorers"
   ]
  },
  {
   "cell_type": "code",
   "execution_count": 6,
   "id": "straight-sending",
   "metadata": {},
   "outputs": [
    {
     "name": "stdout",
     "output_type": "stream",
     "text": [
      "+------------------+------+\n",
      "|            Player|points|\n",
      "+------------------+------+\n",
      "|      Karl Malone*| 13528|\n",
      "|   Michael Jordan*| 12192|\n",
      "|     Eddie Johnson| 11896|\n",
      "|       Kobe Bryant| 11719|\n",
      "| Shaquille O'Neal*| 11661|\n",
      "|  Hakeem Olajuwon*| 10749|\n",
      "|     Dirk Nowitzki| 10688|\n",
      "|Dominique Wilkins*| 10661|\n",
      "|     Kevin Garnett| 10648|\n",
      "|      LeBron James| 10423|\n",
      "|        Tim Duncan| 10285|\n",
      "|     Alex English*| 10174|\n",
      "|      Vince Carter|  9961|\n",
      "|    Patrick Ewing*|  9702|\n",
      "|    Allen Iverson*|  9532|\n",
      "|      Gary Payton*|  9373|\n",
      "|   Carmelo Anthony|  9300|\n",
      "|         Ray Allen|  9165|\n",
      "|    Clyde Drexler*|  8906|\n",
      "|       Paul Pierce|  8668|\n",
      "+------------------+------+\n",
      "only showing top 20 rows\n",
      "\n"
     ]
    }
   ],
   "source": [
    "selectall = sqlContext.sql(\"SELECT Player, sum(2P + 3P) as points from seasons_stats group by Player order by points desc\")\n",
    "selectall.show()"
   ]
  },
  {
   "cell_type": "markdown",
   "id": "colonial-wisdom",
   "metadata": {},
   "source": [
    "### 3 Points attempts per season"
   ]
  },
  {
   "cell_type": "code",
   "execution_count": 11,
   "id": "ahead-italy",
   "metadata": {},
   "outputs": [
    {
     "name": "stdout",
     "output_type": "stream",
     "text": [
      "+----+------------------+\n",
      "|Year|           average|\n",
      "+----+------------------+\n",
      "|1980|15.467787114845938|\n",
      "|1981|11.462809917355372|\n",
      "|1982|12.479892761394101|\n",
      "|1983|11.744245524296675|\n",
      "|1984|13.408163265306122|\n",
      "|1985|16.596685082872927|\n",
      "|1986| 17.61741424802111|\n",
      "|1987| 24.27777777777778|\n",
      "|1988|25.199530516431924|\n",
      "|1989|  33.0958904109589|\n",
      "|1990| 33.46623093681917|\n",
      "|1991| 37.61224489795919|\n",
      "|1992| 38.06331877729258|\n",
      "|1993| 45.39866369710467|\n",
      "|1994| 47.88149688149688|\n",
      "|1995| 79.36725663716814|\n",
      "|1996| 76.21100917431193|\n",
      "|1997| 76.67421602787456|\n",
      "|1998| 62.20475319926874|\n",
      "|1999| 39.96252465483235|\n",
      "|2000| 68.12903225806451|\n",
      "|2001| 63.85474860335196|\n",
      "|2002|            75.034|\n",
      "|2003|  76.8136645962733|\n",
      "|2004| 67.87692307692308|\n",
      "|2005| 75.05299145299145|\n",
      "|2006| 76.19538188277087|\n",
      "|2007| 85.79263565891473|\n",
      "|2008| 81.48571428571428|\n",
      "|2009|  86.8298969072165|\n",
      "|2010| 85.09342560553634|\n",
      "|2011|            84.664|\n",
      "|2012| 69.46823956442832|\n",
      "|2013| 92.42233856893543|\n",
      "|2014| 95.64320785597381|\n",
      "|2015| 97.41935483870968|\n",
      "|2016|110.53460207612457|\n",
      "|2017|122.91764705882353|\n",
      "+----+------------------+\n",
      "\n"
     ]
    }
   ],
   "source": [
    "selectall = sqlContext.sql(\"SELECT Year, AVG(3PA) as average from seasons_stats where 3PA is not null group by Year  order by Year\")\n",
    "selectall.show(n = 100)"
   ]
  },
  {
   "cell_type": "markdown",
   "id": "geological-webmaster",
   "metadata": {},
   "source": [
    "### Prediction of 3 Point attempts"
   ]
  },
  {
   "cell_type": "code",
   "execution_count": 8,
   "id": "liked-negative",
   "metadata": {},
   "outputs": [],
   "source": [
    "from pyspark.ml.feature import VectorAssembler\n",
    "from pyspark.ml.regression import LinearRegression"
   ]
  },
  {
   "cell_type": "code",
   "execution_count": 12,
   "id": "brown-worthy",
   "metadata": {},
   "outputs": [
    {
     "name": "stdout",
     "output_type": "stream",
     "text": [
      "+--------+------------------+\n",
      "|features|           average|\n",
      "+--------+------------------+\n",
      "|[1980.0]|15.467787114845938|\n",
      "|[1981.0]|11.462809917355372|\n",
      "|[1982.0]|12.479892761394101|\n",
      "+--------+------------------+\n",
      "only showing top 3 rows\n",
      "\n"
     ]
    }
   ],
   "source": [
    "vectorAssembler = VectorAssembler(inputCols = ['Year'], outputCol = 'features')\n",
    "v_df = vectorAssembler.transform(selectall)\n",
    "v_df = v_df.select(['features', 'average'])\n",
    "v_df.show(3)"
   ]
  },
  {
   "cell_type": "markdown",
   "id": "announced-chess",
   "metadata": {},
   "source": [
    "#### Model training"
   ]
  },
  {
   "cell_type": "code",
   "execution_count": 13,
   "id": "limiting-element",
   "metadata": {},
   "outputs": [],
   "source": [
    "lr = LinearRegression(featuresCol = 'features', labelCol='average')\n",
    "lr_model = lr.fit(v_df)"
   ]
  },
  {
   "cell_type": "markdown",
   "id": "attended-internship",
   "metadata": {},
   "source": [
    "#### Future dataset"
   ]
  },
  {
   "cell_type": "code",
   "execution_count": 33,
   "id": "solid-semester",
   "metadata": {},
   "outputs": [],
   "source": [
    "data = [\n",
    "    (2018.0,),\n",
    "    (2019.0,),\n",
    "    (2020.0,),\n",
    "    (2021.0,),\n",
    "    (2022.0,)\n",
    "]\n",
    "\n",
    "df_future = spark.createDataFrame(data, ['Year'])"
   ]
  },
  {
   "cell_type": "code",
   "execution_count": 38,
   "id": "better-scratch",
   "metadata": {},
   "outputs": [],
   "source": [
    "v_df_predict = vectorAssembler.transform(df_future)\n",
    "v_df_predict = v_df_predict.select(['features'])"
   ]
  },
  {
   "cell_type": "code",
   "execution_count": 41,
   "id": "august-religion",
   "metadata": {},
   "outputs": [
    {
     "name": "stdout",
     "output_type": "stream",
     "text": [
      "+--------+\n",
      "|features|\n",
      "+--------+\n",
      "|[2018.0]|\n",
      "|[2019.0]|\n",
      "|[2020.0]|\n",
      "|[2021.0]|\n",
      "|[2022.0]|\n",
      "+--------+\n",
      "\n"
     ]
    }
   ],
   "source": [
    "v_df_predict.show()"
   ]
  },
  {
   "cell_type": "markdown",
   "id": "employed-desire",
   "metadata": {},
   "source": [
    "#### Predictions"
   ]
  },
  {
   "cell_type": "code",
   "execution_count": 42,
   "id": "permanent-lounge",
   "metadata": {},
   "outputs": [],
   "source": [
    "predictions = lr_model.transform(v_df_predict)"
   ]
  },
  {
   "cell_type": "code",
   "execution_count": 44,
   "id": "mathematical-wrong",
   "metadata": {},
   "outputs": [
    {
     "name": "stdout",
     "output_type": "stream",
     "text": [
      "+--------+------------------+\n",
      "|features|        prediction|\n",
      "+--------+------------------+\n",
      "|[2018.0]| 110.3489393223499|\n",
      "|[2019.0]|112.99379759286967|\n",
      "|[2020.0]|115.63865586338943|\n",
      "|[2021.0]| 118.2835141339092|\n",
      "|[2022.0]|120.92837240442896|\n",
      "+--------+------------------+\n",
      "\n"
     ]
    }
   ],
   "source": [
    "predictions.show()"
   ]
  }
 ],
 "metadata": {
  "kernelspec": {
   "display_name": "Python 3",
   "language": "python",
   "name": "python3"
  },
  "language_info": {
   "codemirror_mode": {
    "name": "ipython",
    "version": 3
   },
   "file_extension": ".py",
   "mimetype": "text/x-python",
   "name": "python",
   "nbconvert_exporter": "python",
   "pygments_lexer": "ipython3",
   "version": "3.8.8"
  }
 },
 "nbformat": 4,
 "nbformat_minor": 5
}
